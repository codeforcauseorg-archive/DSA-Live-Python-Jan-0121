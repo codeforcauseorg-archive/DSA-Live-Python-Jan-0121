{
 "cells": [
  {
   "cell_type": "code",
   "execution_count": 75,
   "metadata": {},
   "outputs": [],
   "source": [
    "class Human:\n",
    "    population = 0\n",
    "    \n",
    "    # constructor\n",
    "    # magic methods aka dunder methods\n",
    "    def __init__(self, naam, age, salary):\n",
    "        self.name = naam\n",
    "        self.age = age\n",
    "        self.salary = salary\n",
    "        Human.population += 1\n",
    "        \n",
    "    def __repr__(self):\n",
    "        return f'Hello {self.name}'\n",
    "    \n",
    "    def getName(self):\n",
    "        print(f'My name is {self.name}')\n",
    "        \n",
    "    # Will do this Sunday\n",
    "    @staticmethod\n",
    "    def getPop():\n",
    "        return Human.population\n",
    "    \n",
    "    @classmethod\n",
    "    def changeIdentity(cls):\n",
    "        return cls(\"Batman\", 34, 7000000000)"
   ]
  },
  {
   "cell_type": "code",
   "execution_count": 67,
   "metadata": {},
   "outputs": [],
   "source": [
    "kunal = Human(\"Kunal Kushwaha\", 22, 10000)"
   ]
  },
  {
   "cell_type": "code",
   "execution_count": 68,
   "metadata": {},
   "outputs": [],
   "source": [
    "kunal = kunal.changeIdentity()"
   ]
  },
  {
   "cell_type": "code",
   "execution_count": 69,
   "metadata": {},
   "outputs": [
    {
     "data": {
      "text/plain": [
       "34"
      ]
     },
     "execution_count": 69,
     "metadata": {},
     "output_type": "execute_result"
    }
   ],
   "source": [
    "kunal.age"
   ]
  },
  {
   "cell_type": "code",
   "execution_count": 34,
   "metadata": {},
   "outputs": [],
   "source": [
    "anuj = Human(\"Anuj Garg\", 26, 20000)"
   ]
  },
  {
   "cell_type": "code",
   "execution_count": 35,
   "metadata": {},
   "outputs": [
    {
     "data": {
      "text/plain": [
       "(2, 2)"
      ]
     },
     "execution_count": 35,
     "metadata": {},
     "output_type": "execute_result"
    }
   ],
   "source": [
    "kunal.population, anuj.population"
   ]
  },
  {
   "cell_type": "code",
   "execution_count": 36,
   "metadata": {},
   "outputs": [],
   "source": [
    "kunal.population += 1"
   ]
  },
  {
   "cell_type": "code",
   "execution_count": 37,
   "metadata": {},
   "outputs": [
    {
     "data": {
      "text/plain": [
       "(3, 2)"
      ]
     },
     "execution_count": 37,
     "metadata": {},
     "output_type": "execute_result"
    }
   ],
   "source": [
    "kunal.population, anuj.population"
   ]
  },
  {
   "cell_type": "code",
   "execution_count": 38,
   "metadata": {},
   "outputs": [],
   "source": [
    "ananya = Human(\"Ananya Nagar\", 20, 50000)\n",
    "keshav = Human(\"Keshav\", 30, 45675)\n",
    "ayushi = Human(\"Ayushi\", 19, 4567854)\n",
    "ruchi = Human(\"Ruchi\", 21, 477865)"
   ]
  },
  {
   "cell_type": "code",
   "execution_count": 39,
   "metadata": {},
   "outputs": [
    {
     "data": {
      "text/plain": [
       "(3, 6, 6)"
      ]
     },
     "execution_count": 39,
     "metadata": {},
     "output_type": "execute_result"
    }
   ],
   "source": [
    "kunal.population, anuj.population, ananya.population"
   ]
  },
  {
   "cell_type": "code",
   "execution_count": 40,
   "metadata": {},
   "outputs": [
    {
     "data": {
      "text/plain": [
       "6"
      ]
     },
     "execution_count": 40,
     "metadata": {},
     "output_type": "execute_result"
    }
   ],
   "source": [
    "Human.population"
   ]
  },
  {
   "cell_type": "code",
   "execution_count": 95,
   "metadata": {},
   "outputs": [],
   "source": [
    "class Boy(Human):\n",
    "    def __init__(self, name, age, salary, single):\n",
    "        super().__init__(name, age, salary)\n",
    "        self.single = single"
   ]
  },
  {
   "cell_type": "code",
   "execution_count": 94,
   "metadata": {},
   "outputs": [
    {
     "name": "stdout",
     "output_type": "stream",
     "text": [
      "super <super: <class 'Boy'>, <Boy object>>\n"
     ]
    }
   ],
   "source": [
    "kunal = Boy(\"Kunal Kushwaha\", 22, 10000, True)"
   ]
  },
  {
   "cell_type": "code",
   "execution_count": 90,
   "metadata": {},
   "outputs": [
    {
     "data": {
      "text/plain": [
       "('Kunal Kushwaha', True, 22)"
      ]
     },
     "execution_count": 90,
     "metadata": {},
     "output_type": "execute_result"
    }
   ],
   "source": [
    "kunal.name, kunal.single, kunal.age"
   ]
  },
  {
   "cell_type": "code",
   "execution_count": 102,
   "metadata": {},
   "outputs": [],
   "source": [
    "class Human:\n",
    "    population = 0\n",
    "    \n",
    "    # constructor\n",
    "    # magic methods aka dunder methods\n",
    "    def __init__(self, naam, salary, age=0):\n",
    "        self.name = naam\n",
    "        self.age = age\n",
    "        self.salary = salary\n",
    "        Human.population += 1\n",
    "        \n",
    "    def __repr__(self):\n",
    "        return f'Hello {self.name}'\n",
    "    \n",
    "    def getName(self):\n",
    "        print(f'My name is {self.name}')\n",
    "        \n",
    "    # Will do this Sunday\n",
    "    @staticmethod\n",
    "    def getPop():\n",
    "        return Human.population\n",
    "    \n",
    "    @classmethod\n",
    "    def changeIdentity(cls):\n",
    "        return cls(\"Batman\", 34, 7000000000)"
   ]
  },
  {
   "cell_type": "code",
   "execution_count": 103,
   "metadata": {},
   "outputs": [],
   "source": [
    "kunal = Human(\"Kunal Kushwaha\", 435678754, age=89)"
   ]
  },
  {
   "cell_type": "code",
   "execution_count": 104,
   "metadata": {},
   "outputs": [
    {
     "data": {
      "text/plain": [
       "89"
      ]
     },
     "execution_count": 104,
     "metadata": {},
     "output_type": "execute_result"
    }
   ],
   "source": [
    "kunal.age"
   ]
  },
  {
   "cell_type": "code",
   "execution_count": null,
   "metadata": {},
   "outputs": [],
   "source": []
  }
 ],
 "metadata": {
  "kernelspec": {
   "display_name": "Python 3",
   "language": "python",
   "name": "python3"
  },
  "language_info": {
   "codemirror_mode": {
    "name": "ipython",
    "version": 3
   },
   "file_extension": ".py",
   "mimetype": "text/x-python",
   "name": "python",
   "nbconvert_exporter": "python",
   "pygments_lexer": "ipython3",
   "version": "3.8.0"
  }
 },
 "nbformat": 4,
 "nbformat_minor": 4
}
