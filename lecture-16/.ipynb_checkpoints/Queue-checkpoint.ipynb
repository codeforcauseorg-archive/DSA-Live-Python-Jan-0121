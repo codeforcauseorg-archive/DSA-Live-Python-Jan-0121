{
 "cells": [
  {
   "cell_type": "code",
   "execution_count": 9,
   "metadata": {},
   "outputs": [],
   "source": [
    "class Queue:\n",
    "    def __init__(self, size=10):\n",
    "        self.size = size\n",
    "        self.data = [None for _ in range(size)]\n",
    "        self.end = 0\n",
    "\n",
    "    def isFull(self):\n",
    "        self.end == self.size\n",
    "    \n",
    "    def isEmpty(self):\n",
    "        self.end == 0\n",
    "        \n",
    "    def insert(self, item):\n",
    "        if self.isFull():\n",
    "            print('Queue is Full')\n",
    "            return False\n",
    "        \n",
    "        self.data[self.end] = item\n",
    "        self.end += 1\n",
    "    \n",
    "    def remove(self):\n",
    "        if self.isEmpty():\n",
    "            print('Queue is Empty!')\n",
    "            return False\n",
    "        \n",
    "        removed = self.data[0]\n",
    "        \n",
    "        for i in range(1, self.end):\n",
    "            self.data[i-1] = self.data[i]\n",
    "            \n",
    "        self.end -= 1\n",
    "        return removed\n",
    "    \n",
    "    def front(self):\n",
    "        if self.isEmpty():\n",
    "            print('Queue is Empty!')\n",
    "            return False\n",
    "        return self.data[0]\n",
    "    \n",
    "    def display(self):\n",
    "        print(self.data[:self.end])"
   ]
  },
  {
   "cell_type": "code",
   "execution_count": 10,
   "metadata": {},
   "outputs": [],
   "source": [
    "queue = Queue(20)"
   ]
  },
  {
   "cell_type": "code",
   "execution_count": 11,
   "metadata": {},
   "outputs": [],
   "source": [
    "queue.insert(5)\n",
    "queue.insert(18)\n",
    "queue.insert(9)\n",
    "queue.insert(6)\n",
    "queue.insert(3)\n",
    "queue.insert(8)\n",
    "queue.insert(16)"
   ]
  },
  {
   "cell_type": "code",
   "execution_count": 12,
   "metadata": {},
   "outputs": [
    {
     "name": "stdout",
     "output_type": "stream",
     "text": [
      "[5, 18, 9, 6, 3, 8, 16]\n"
     ]
    }
   ],
   "source": [
    "queue.display()"
   ]
  },
  {
   "cell_type": "code",
   "execution_count": 13,
   "metadata": {},
   "outputs": [
    {
     "data": {
      "text/plain": [
       "5"
      ]
     },
     "execution_count": 13,
     "metadata": {},
     "output_type": "execute_result"
    }
   ],
   "source": [
    "queue.remove()"
   ]
  },
  {
   "cell_type": "code",
   "execution_count": 14,
   "metadata": {},
   "outputs": [
    {
     "name": "stdout",
     "output_type": "stream",
     "text": [
      "[18, 9, 6, 3, 8, 16]\n"
     ]
    }
   ],
   "source": [
    "queue.display()"
   ]
  },
  {
   "cell_type": "code",
   "execution_count": null,
   "metadata": {},
   "outputs": [],
   "source": []
  },
  {
   "cell_type": "code",
   "execution_count": null,
   "metadata": {},
   "outputs": [],
   "source": []
  }
 ],
 "metadata": {
  "kernelspec": {
   "display_name": "Python 3",
   "language": "python",
   "name": "python3"
  },
  "language_info": {
   "codemirror_mode": {
    "name": "ipython",
    "version": 3
   },
   "file_extension": ".py",
   "mimetype": "text/x-python",
   "name": "python",
   "nbconvert_exporter": "python",
   "pygments_lexer": "ipython3",
   "version": "3.8.0"
  }
 },
 "nbformat": 4,
 "nbformat_minor": 4
}
