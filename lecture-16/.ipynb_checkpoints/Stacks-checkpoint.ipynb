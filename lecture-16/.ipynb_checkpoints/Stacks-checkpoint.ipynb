{
 "cells": [
  {
   "cell_type": "code",
   "execution_count": 6,
   "metadata": {},
   "outputs": [
    {
     "name": "stdout",
     "output_type": "stream",
     "text": [
      "[10, 5, 23]\n",
      "23\n",
      "5\n",
      "10\n",
      "[]\n"
     ]
    }
   ],
   "source": [
    "# Stack using list\n",
    "stack = []\n",
    "stack.append(10)\n",
    "stack.append(5)\n",
    "stack.append(23)\n",
    "\n",
    "print(stack)\n",
    "\n",
    "print(stack.pop())\n",
    "print(stack.pop())\n",
    "print(stack.pop())\n",
    "# print(stack.pop())\n",
    "\n",
    "print(stack)"
   ]
  },
  {
   "cell_type": "code",
   "execution_count": 7,
   "metadata": {},
   "outputs": [],
   "source": [
    "li = [2, 3, 1, 45]"
   ]
  },
  {
   "cell_type": "code",
   "execution_count": 8,
   "metadata": {},
   "outputs": [
    {
     "data": {
      "text/plain": [
       "1"
      ]
     },
     "execution_count": 8,
     "metadata": {},
     "output_type": "execute_result"
    }
   ],
   "source": [
    "li[2]"
   ]
  },
  {
   "cell_type": "code",
   "execution_count": 9,
   "metadata": {},
   "outputs": [
    {
     "name": "stdout",
     "output_type": "stream",
     "text": [
      "deque([10, 5, 23])\n",
      "23\n",
      "5\n",
      "10\n",
      "deque([])\n"
     ]
    }
   ],
   "source": [
    "# stack using deque (pronounce: deck)\n",
    "from collections import deque\n",
    "\n",
    "stack = deque()\n",
    "stack.append(10)\n",
    "stack.append(5) # thread safe\n",
    "stack.append(23)\n",
    "\n",
    "print(stack)\n",
    "\n",
    "print(stack.pop())\n",
    "print(stack.pop())\n",
    "print(stack.pop()) # thread safe\n",
    "# print(stack.pop())\n",
    "\n",
    "print(stack)"
   ]
  },
  {
   "cell_type": "code",
   "execution_count": 14,
   "metadata": {},
   "outputs": [
    {
     "name": "stdout",
     "output_type": "stream",
     "text": [
      "23\n",
      "5\n",
      "10\n"
     ]
    }
   ],
   "source": [
    "# Stack using LiefoQueue\n",
    "# fully thread safe, but little slow\n",
    "from queue import LifoQueue\n",
    "stack = LifoQueue()\n",
    "\n",
    "stack.put(10) # this is like push for addition\n",
    "stack.put(5)\n",
    "stack.put(23)\n",
    "\n",
    "# to remove\n",
    "print(stack.get())\n",
    "print(stack.get())\n",
    "print(stack.get())"
   ]
  },
  {
   "cell_type": "code",
   "execution_count": null,
   "metadata": {},
   "outputs": [],
   "source": []
  },
  {
   "cell_type": "code",
   "execution_count": 26,
   "metadata": {},
   "outputs": [],
   "source": [
    "# Stack Implementation\n",
    "class Stack:\n",
    "    def __init__(self, size=10):\n",
    "        self.size = size\n",
    "        self.data = [None for _ in range(size)]\n",
    "        self.top = -1\n",
    "    \n",
    "    def isEmpty(self):\n",
    "        return self.top == -1\n",
    "\n",
    "    def isFull(self):\n",
    "        return self.top == self.size - 1\n",
    "    \n",
    "    def display(self):\n",
    "        print(self.data[:self.top+1])\n",
    "        \n",
    "    def push(self, item):\n",
    "        if self.isFull():\n",
    "            print(\"Stack is Full!\")\n",
    "            return False\n",
    "        self.top += 1\n",
    "        self.data[self.top] = item\n",
    "        return True\n",
    "    \n",
    "    def pop(self):\n",
    "        if self.isEmpty():\n",
    "            print('Stack is Empty!')\n",
    "            return False\n",
    "        \n",
    "        removed = self.data[self.top]\n",
    "        self.top -= 1\n",
    "        return removed\n",
    "    \n",
    "    def top(self):\n",
    "        if self.isEmpty():\n",
    "            print('Stack is Empty!')\n",
    "            return False\n",
    "        return self.data[self.top]"
   ]
  },
  {
   "cell_type": "code",
   "execution_count": 27,
   "metadata": {},
   "outputs": [],
   "source": [
    "stack = Stack(20)"
   ]
  },
  {
   "cell_type": "code",
   "execution_count": 28,
   "metadata": {},
   "outputs": [
    {
     "data": {
      "text/plain": [
       "True"
      ]
     },
     "execution_count": 28,
     "metadata": {},
     "output_type": "execute_result"
    }
   ],
   "source": [
    "stack.push(10)\n",
    "stack.push(5)\n",
    "stack.push(23)"
   ]
  },
  {
   "cell_type": "code",
   "execution_count": 29,
   "metadata": {},
   "outputs": [
    {
     "name": "stdout",
     "output_type": "stream",
     "text": [
      "[10, 5, 23]\n"
     ]
    }
   ],
   "source": [
    "stack.display()"
   ]
  },
  {
   "cell_type": "code",
   "execution_count": 30,
   "metadata": {},
   "outputs": [
    {
     "data": {
      "text/plain": [
       "23"
      ]
     },
     "execution_count": 30,
     "metadata": {},
     "output_type": "execute_result"
    }
   ],
   "source": [
    "stack.pop()"
   ]
  },
  {
   "cell_type": "code",
   "execution_count": 31,
   "metadata": {},
   "outputs": [
    {
     "name": "stdout",
     "output_type": "stream",
     "text": [
      "[10, 5]\n"
     ]
    }
   ],
   "source": [
    "stack.display()"
   ]
  },
  {
   "cell_type": "code",
   "execution_count": null,
   "metadata": {},
   "outputs": [],
   "source": []
  }
 ],
 "metadata": {
  "kernelspec": {
   "display_name": "Python 3",
   "language": "python",
   "name": "python3"
  },
  "language_info": {
   "codemirror_mode": {
    "name": "ipython",
    "version": 3
   },
   "file_extension": ".py",
   "mimetype": "text/x-python",
   "name": "python",
   "nbconvert_exporter": "python",
   "pygments_lexer": "ipython3",
   "version": "3.8.0"
  }
 },
 "nbformat": 4,
 "nbformat_minor": 4
}
