{
 "cells": [
  {
   "cell_type": "code",
   "execution_count": 7,
   "metadata": {},
   "outputs": [
    {
     "name": "stdout",
     "output_type": "stream",
     "text": [
      "File does not exist\n"
     ]
    }
   ],
   "source": [
    "try: \n",
    "    f = open('kunal.txt')\n",
    "except FileNotFoundError:\n",
    "    print('File does not exist')"
   ]
  },
  {
   "cell_type": "code",
   "execution_count": 13,
   "metadata": {},
   "outputs": [
    {
     "name": "stdout",
     "output_type": "stream",
     "text": [
      "File does not exist\n"
     ]
    }
   ],
   "source": [
    "try: \n",
    "    name = kunal\n",
    "    f = open('kunal.txt')\n",
    "except Exception:\n",
    "    print('File does not exist')"
   ]
  },
  {
   "cell_type": "code",
   "execution_count": 17,
   "metadata": {},
   "outputs": [
    {
     "name": "stdout",
     "output_type": "stream",
     "text": [
      "File does not exist\n"
     ]
    }
   ],
   "source": [
    "try: \n",
    "    f = open('kunal.txt')\n",
    "    name = kunal\n",
    "except FileNotFoundError:\n",
    "    print('File does not exist')\n",
    "except Exception:\n",
    "    print('Variable Error')"
   ]
  },
  {
   "cell_type": "code",
   "execution_count": 19,
   "metadata": {},
   "outputs": [
    {
     "name": "stdout",
     "output_type": "stream",
     "text": [
      "name 'kunal' is not defined\n"
     ]
    }
   ],
   "source": [
    "try: \n",
    "#     f = open('kunal.txt')\n",
    "    name = kunal\n",
    "except FileNotFoundError as error:\n",
    "    print(error)\n",
    "except Exception as error:\n",
    "    print(error)"
   ]
  },
  {
   "cell_type": "code",
   "execution_count": 20,
   "metadata": {},
   "outputs": [
    {
     "name": "stdout",
     "output_type": "stream",
     "text": [
      "Code for Cause\n"
     ]
    }
   ],
   "source": [
    "try:\n",
    "    f = open('temp.txt')\n",
    "except FileNotFoundError as error:\n",
    "    print(error)\n",
    "else:\n",
    "    print(f.read())\n",
    "    f.close()"
   ]
  },
  {
   "cell_type": "code",
   "execution_count": 22,
   "metadata": {},
   "outputs": [
    {
     "name": "stdout",
     "output_type": "stream",
     "text": [
      "[Errno 2] No such file or directory: 'tem.txt'\n",
      "Database closing something\n"
     ]
    }
   ],
   "source": [
    "try:\n",
    "    f = open('tem.txt')\n",
    "except FileNotFoundError as error:\n",
    "    print(error)\n",
    "else:\n",
    "    print(f.read())\n",
    "    f.close()\n",
    "finally:\n",
    "    print('Database closing something')"
   ]
  },
  {
   "cell_type": "code",
   "execution_count": 23,
   "metadata": {},
   "outputs": [
    {
     "name": "stdout",
     "output_type": "stream",
     "text": [
      "Error aa gaya\n",
      "Database closing something\n"
     ]
    }
   ],
   "source": [
    "# Raise your own Exceptions\n",
    "\n",
    "try:\n",
    "    f = open('temp.txt')\n",
    "    if f.name == 'temp.txt':\n",
    "        raise Exception\n",
    "except Exception as e:\n",
    "    print('Error aa gaya')\n",
    "else:\n",
    "    print(f.read())\n",
    "    f.close()\n",
    "finally:\n",
    "    print('Database closing something')"
   ]
  },
  {
   "cell_type": "code",
   "execution_count": null,
   "metadata": {},
   "outputs": [],
   "source": []
  }
 ],
 "metadata": {
  "kernelspec": {
   "display_name": "Python 3",
   "language": "python",
   "name": "python3"
  },
  "language_info": {
   "codemirror_mode": {
    "name": "ipython",
    "version": 3
   },
   "file_extension": ".py",
   "mimetype": "text/x-python",
   "name": "python",
   "nbconvert_exporter": "python",
   "pygments_lexer": "ipython3",
   "version": "3.8.0"
  }
 },
 "nbformat": 4,
 "nbformat_minor": 4
}
