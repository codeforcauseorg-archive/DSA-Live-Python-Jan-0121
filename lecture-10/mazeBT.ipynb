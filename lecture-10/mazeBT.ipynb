{
 "cells": [
  {
   "cell_type": "code",
   "execution_count": 30,
   "metadata": {},
   "outputs": [],
   "source": [
    "maze = []\n",
    "n = 5\n",
    "\n",
    "for row_index in range(n):\n",
    "    row = [False]*n\n",
    "    maze.append(row)\n"
   ]
  },
  {
   "cell_type": "code",
   "execution_count": 31,
   "metadata": {},
   "outputs": [
    {
     "data": {
      "text/plain": [
       "[[False, False, False, False, False],\n",
       " [False, False, False, False, False],\n",
       " [False, False, False, False, False],\n",
       " [False, False, False, False, False],\n",
       " [False, False, False, False, False]]"
      ]
     },
     "execution_count": 31,
     "metadata": {},
     "output_type": "execute_result"
    }
   ],
   "source": [
    "maze"
   ]
  },
  {
   "cell_type": "code",
   "execution_count": 32,
   "metadata": {},
   "outputs": [],
   "source": [
    "def mazePath(ratR, ratC, foodR, foodC, maze, solution=\"\"):\n",
    "    \n",
    "    if ratR < 0 or ratC < 0 or ratR >= len(maze) or ratC >= len(maze[0]):\n",
    "        return\n",
    "    \n",
    "    if maze[ratR][ratC]:\n",
    "        return\n",
    "        \n",
    "    if (ratR, ratC) == (foodR, foodC):\n",
    "        print(solution)\n",
    "        return\n",
    "    \n",
    "    maze[ratR][ratC] = True\n",
    "    mazePath(ratR-1, ratC, foodR, foodC, maze, solution+\"N\")\n",
    "    mazePath(ratR, ratC+1, foodR, foodC, maze, solution+\"E\")\n",
    "    mazePath(ratR+1, ratC, foodR, foodC, maze, solution+\"S\")\n",
    "    mazePath(ratR, ratC-1, foodR, foodC, maze, solution+\"W\")\n",
    "    maze[ratR][ratC] = False\n",
    "    "
   ]
  },
  {
   "cell_type": "code",
   "execution_count": 34,
   "metadata": {},
   "outputs": [],
   "source": [
    "# mazePath(0, 4, 4, 0, maze)"
   ]
  },
  {
   "cell_type": "code",
   "execution_count": null,
   "metadata": {},
   "outputs": [],
   "source": []
  }
 ],
 "metadata": {
  "kernelspec": {
   "display_name": "Python 3",
   "language": "python",
   "name": "python3"
  },
  "language_info": {
   "codemirror_mode": {
    "name": "ipython",
    "version": 3
   },
   "file_extension": ".py",
   "mimetype": "text/x-python",
   "name": "python",
   "nbconvert_exporter": "python",
   "pygments_lexer": "ipython3",
   "version": "3.7.6"
  }
 },
 "nbformat": 4,
 "nbformat_minor": 4
}
