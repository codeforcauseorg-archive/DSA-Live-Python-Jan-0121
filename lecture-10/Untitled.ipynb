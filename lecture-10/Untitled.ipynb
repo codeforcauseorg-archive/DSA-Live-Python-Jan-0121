{
 "cells": [
  {
   "cell_type": "code",
   "execution_count": 3,
   "metadata": {},
   "outputs": [],
   "source": [
    "def mazeCountDiagPrint(rows, cols, solution=[]):\n",
    "    \n",
    "    if (rows == 1) and (cols == 1):\n",
    "        print(\"\".join(solution))\n",
    "        return\n",
    "    \n",
    "    bottom, right, diag = 0, 0, 0\n",
    "    \n",
    "    if rows > 1:\n",
    "        solution.append(\"B\")\n",
    "        mazeCountDiagPrint(rows-1, cols, solution)\n",
    "        solution.pop()\n",
    "    \n",
    "    if cols > 1:\n",
    "        solution.append(\"R\")\n",
    "        mazeCountDiagPrint(rows, cols-1, solution)\n",
    "        solution.pop()\n",
    "        \n",
    "    if rows > 1 and cols > 1:\n",
    "        solution.append(\"D\")\n",
    "        mazeCountDiagPrint(rows-1, cols-1, solution)\n",
    "        solution.pop()\n",
    "        \n",
    "    return"
   ]
  },
  {
   "cell_type": "code",
   "execution_count": 4,
   "metadata": {},
   "outputs": [
    {
     "name": "stdout",
     "output_type": "stream",
     "text": [
      "BBRR\n",
      "BRBR\n",
      "BRRB\n",
      "BRD\n",
      "BDR\n",
      "RBBR\n",
      "RBRB\n",
      "RBD\n",
      "RRBB\n",
      "RDB\n",
      "DBR\n",
      "DRB\n",
      "DD\n"
     ]
    }
   ],
   "source": [
    "mazeCountDiagPrint(3, 3)"
   ]
  },
  {
   "cell_type": "code",
   "execution_count": null,
   "metadata": {},
   "outputs": [],
   "source": []
  }
 ],
 "metadata": {
  "kernelspec": {
   "display_name": "Python 3",
   "language": "python",
   "name": "python3"
  },
  "language_info": {
   "codemirror_mode": {
    "name": "ipython",
    "version": 3
   },
   "file_extension": ".py",
   "mimetype": "text/x-python",
   "name": "python",
   "nbconvert_exporter": "python",
   "pygments_lexer": "ipython3",
   "version": "3.7.6"
  }
 },
 "nbformat": 4,
 "nbformat_minor": 4
}
