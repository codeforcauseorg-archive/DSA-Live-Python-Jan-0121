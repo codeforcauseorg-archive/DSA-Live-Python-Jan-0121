{
 "cells": [
  {
   "cell_type": "code",
   "execution_count": 2,
   "metadata": {},
   "outputs": [],
   "source": [
    "def mazeCount(rows, cols):\n",
    "    \n",
    "    if (rows == 1) and (cols == 1):\n",
    "        return 1\n",
    "    \n",
    "    bottom, right = 0, 0\n",
    "    \n",
    "    if rows > 1:\n",
    "        bottom = mazeCount(rows-1, cols)\n",
    "    \n",
    "    if cols > 1:\n",
    "        right = mazeCount(rows, cols-1)\n",
    "        \n",
    "    return bottom + right\n",
    "        \n",
    "    "
   ]
  },
  {
   "cell_type": "code",
   "execution_count": 3,
   "metadata": {},
   "outputs": [
    {
     "data": {
      "text/plain": [
       "6"
      ]
     },
     "execution_count": 3,
     "metadata": {},
     "output_type": "execute_result"
    }
   ],
   "source": [
    "mazeCount(3, 3)"
   ]
  },
  {
   "cell_type": "code",
   "execution_count": 4,
   "metadata": {},
   "outputs": [],
   "source": [
    "def mazeCountDiag(rows, cols):\n",
    "    \n",
    "    if (rows == 1) and (cols == 1):\n",
    "        return 1\n",
    "    \n",
    "    bottom, right, diag = 0, 0, 0\n",
    "    \n",
    "    if rows > 1:\n",
    "        bottom = mazeCountDiag(rows-1, cols)\n",
    "    \n",
    "    if cols > 1:\n",
    "        right = mazeCountDiag(rows, cols-1)\n",
    "        \n",
    "    if rows > 1 and cols > 1:\n",
    "        diag = mazeCountDiag(rows-1, cols-1)\n",
    "        \n",
    "    return bottom + right + diag"
   ]
  },
  {
   "cell_type": "code",
   "execution_count": 5,
   "metadata": {},
   "outputs": [
    {
     "data": {
      "text/plain": [
       "13"
      ]
     },
     "execution_count": 5,
     "metadata": {},
     "output_type": "execute_result"
    }
   ],
   "source": [
    "mazeCountDiag(3, 3)"
   ]
  },
  {
   "cell_type": "code",
   "execution_count": 8,
   "metadata": {},
   "outputs": [],
   "source": [
    "def mazeCountDiagPrint(rows, cols, solution=\"\"):\n",
    "    \n",
    "    if (rows == 1) and (cols == 1):\n",
    "        print(solution)\n",
    "        return\n",
    "    \n",
    "    bottom, right, diag = 0, 0, 0\n",
    "    \n",
    "    if rows > 1:\n",
    "        mazeCountDiagPrint(rows-1, cols, solution+\"B\")\n",
    "    \n",
    "    if cols > 1:\n",
    "        mazeCountDiagPrint(rows, cols-1, solution+\"R\")\n",
    "        \n",
    "    if rows > 1 and cols > 1:\n",
    "        mazeCountDiagPrint(rows-1, cols-1, solution+\"D\")\n",
    "        \n",
    "    return"
   ]
  },
  {
   "cell_type": "code",
   "execution_count": 9,
   "metadata": {},
   "outputs": [
    {
     "name": "stdout",
     "output_type": "stream",
     "text": [
      "BBRR\n",
      "BRBR\n",
      "BRRB\n",
      "BRD\n",
      "BDR\n",
      "RBBR\n",
      "RBRB\n",
      "RBD\n",
      "RRBB\n",
      "RDB\n",
      "DBR\n",
      "DRB\n",
      "DD\n"
     ]
    }
   ],
   "source": [
    "mazeCountDiagPrint(3, 3)"
   ]
  },
  {
   "cell_type": "code",
   "execution_count": null,
   "metadata": {},
   "outputs": [],
   "source": []
  }
 ],
 "metadata": {
  "kernelspec": {
   "display_name": "Python 3",
   "language": "python",
   "name": "python3"
  },
  "language_info": {
   "codemirror_mode": {
    "name": "ipython",
    "version": 3
   },
   "file_extension": ".py",
   "mimetype": "text/x-python",
   "name": "python",
   "nbconvert_exporter": "python",
   "pygments_lexer": "ipython3",
   "version": "3.7.6"
  }
 },
 "nbformat": 4,
 "nbformat_minor": 4
}
