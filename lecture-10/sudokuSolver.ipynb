{
 "cells": [
  {
   "cell_type": "code",
   "execution_count": 12,
   "metadata": {},
   "outputs": [],
   "source": [
    "def sudokuSolver(sudoku, row=0, col=0):\n",
    "    \n",
    "    if row == 9:\n",
    "        for row in sudoku:\n",
    "            print(row)\n",
    "        return\n",
    "    \n",
    "    if col == 9:\n",
    "        sudokuSolver(sudoku, row+1, 0)\n",
    "        return\n",
    "    \n",
    "    if sudoku[row][col] > 0:\n",
    "        sudokuSolver(sudoku, row, col+1)\n",
    "    else:\n",
    "        for value in range(1, 10):\n",
    "            if isSafe(sudoku, row, col, value):\n",
    "                sudoku[row][col] = value\n",
    "                sudokuSolver(sudoku, row, col+1)\n",
    "                sudoku[row][col] = 0\n",
    "    \n",
    "\n",
    "def isSafe(sudoku, row, col, value):\n",
    "    \n",
    "    # ret false if value in this row\n",
    "    for c in range(9):\n",
    "        if sudoku[row][c] == value:\n",
    "            return False\n",
    "    \n",
    "    # ret false if value in this col\n",
    "    for r in range(9):\n",
    "        if sudoku[r][col] == value:\n",
    "            return False\n",
    "        \n",
    "    box_r = row - (row%3)\n",
    "    box_c = col - (col%3)\n",
    "    \n",
    "    for r in range (box_r, box_r+3):\n",
    "        for c in range (box_c, box_c+3): \n",
    "            if sudoku[r][c] == value:\n",
    "                return False\n",
    "            \n",
    "    \n",
    "    return True\n",
    "    \n",
    "    \n",
    "        \n",
    "    "
   ]
  },
  {
   "cell_type": "code",
   "execution_count": 13,
   "metadata": {},
   "outputs": [],
   "source": [
    "sudoku = [[8, 1, 0, 0, 3, 0, 0, 2, 7], \n",
    "            [0, 6, 2, 0, 5, 0, 0, 9, 0], \n",
    "            [0, 7, 0, 0, 0, 0, 0, 0, 0], \n",
    "            [0, 9, 0, 6, 0, 0, 1, 0, 0], \n",
    "            [1, 0, 0, 0, 2, 0, 0, 0, 4], \n",
    "            [0, 0, 8, 0, 0, 5, 0, 7, 0], \n",
    "            [0, 0, 0, 0, 0, 0, 0, 8, 0], \n",
    "            [0, 2, 0, 0, 1, 0, 7, 5, 0], \n",
    "            [3, 8, 0, 0, 7, 0, 0, 4, 2]]"
   ]
  },
  {
   "cell_type": "code",
   "execution_count": 14,
   "metadata": {},
   "outputs": [
    {
     "name": "stdout",
     "output_type": "stream",
     "text": [
      "[8, 1, 9, 4, 3, 6, 5, 2, 7]\n",
      "[4, 6, 2, 7, 5, 1, 3, 9, 8]\n",
      "[5, 7, 3, 2, 9, 8, 4, 1, 6]\n",
      "[2, 9, 4, 6, 8, 7, 1, 3, 5]\n",
      "[1, 5, 7, 9, 2, 3, 8, 6, 4]\n",
      "[6, 3, 8, 1, 4, 5, 2, 7, 9]\n",
      "[7, 4, 5, 3, 6, 2, 9, 8, 1]\n",
      "[9, 2, 6, 8, 1, 4, 7, 5, 3]\n",
      "[3, 8, 1, 5, 7, 9, 6, 4, 2]\n"
     ]
    }
   ],
   "source": [
    "sudokuSolver(sudoku)"
   ]
  },
  {
   "cell_type": "code",
   "execution_count": null,
   "metadata": {},
   "outputs": [],
   "source": []
  },
  {
   "cell_type": "code",
   "execution_count": null,
   "metadata": {},
   "outputs": [],
   "source": []
  }
 ],
 "metadata": {
  "kernelspec": {
   "display_name": "Python 3",
   "language": "python",
   "name": "python3"
  },
  "language_info": {
   "codemirror_mode": {
    "name": "ipython",
    "version": 3
   },
   "file_extension": ".py",
   "mimetype": "text/x-python",
   "name": "python",
   "nbconvert_exporter": "python",
   "pygments_lexer": "ipython3",
   "version": "3.7.7"
  }
 },
 "nbformat": 4,
 "nbformat_minor": 4
}
