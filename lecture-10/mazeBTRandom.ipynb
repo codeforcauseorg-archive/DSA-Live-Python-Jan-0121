{
 "cells": [
  {
   "cell_type": "code",
   "execution_count": 10,
   "metadata": {},
   "outputs": [],
   "source": [
    "maze = []\n",
    "n = 3\n",
    "\n",
    "for row_index in range(n):\n",
    "    row = [False]*n\n",
    "    maze.append(row)\n"
   ]
  },
  {
   "cell_type": "code",
   "execution_count": 11,
   "metadata": {},
   "outputs": [
    {
     "data": {
      "text/plain": [
       "[[False, False, False], [False, False, False], [False, False, False]]"
      ]
     },
     "execution_count": 11,
     "metadata": {},
     "output_type": "execute_result"
    }
   ],
   "source": [
    "maze"
   ]
  },
  {
   "cell_type": "code",
   "execution_count": 25,
   "metadata": {},
   "outputs": [],
   "source": [
    "def mazePath(ratR, ratC, foodR, foodC, maze, solution=\"\"):\n",
    "    \n",
    "    if ratR < 0 or ratC < 0 or ratR >= len(maze) or ratC >= len(maze[0]):\n",
    "        return\n",
    "    \n",
    "    if maze[ratR][ratC]:\n",
    "        return\n",
    "        \n",
    "    if (ratR, ratC) == (foodR, foodC):\n",
    "        print(solution)\n",
    "        return\n",
    "    \n",
    "    maze[ratR][ratC] = True\n",
    "    mazePath(ratR-1, ratC, foodR, foodC, maze, solution+\"N\")\n",
    "    mazePath(ratR, ratC+1, foodR, foodC, maze, solution+\"E\")\n",
    "    mazePath(ratR+1, ratC, foodR, foodC, maze, solution+\"S\")\n",
    "    mazePath(ratR, ratC-1, foodR, foodC, maze, solution+\"W\")\n",
    "    maze[ratR][ratC] = False\n",
    "    "
   ]
  },
  {
   "cell_type": "code",
   "execution_count": 26,
   "metadata": {},
   "outputs": [
    {
     "name": "stdout",
     "output_type": "stream",
     "text": [
      "EESS\n",
      "EESWSE\n",
      "EESWWSEE\n",
      "ESES\n",
      "ESSE\n",
      "ESWSEE\n",
      "SENESS\n",
      "SEES\n",
      "SESE\n",
      "SSENNESS\n",
      "SSENES\n",
      "SSEE\n"
     ]
    }
   ],
   "source": [
    "mazePath(0, 0, 2, 2, maze)"
   ]
  },
  {
   "cell_type": "code",
   "execution_count": null,
   "metadata": {},
   "outputs": [],
   "source": []
  }
 ],
 "metadata": {
  "kernelspec": {
   "display_name": "Python 3",
   "language": "python",
   "name": "python3"
  },
  "language_info": {
   "codemirror_mode": {
    "name": "ipython",
    "version": 3
   },
   "file_extension": ".py",
   "mimetype": "text/x-python",
   "name": "python",
   "nbconvert_exporter": "python",
   "pygments_lexer": "ipython3",
   "version": "3.7.6"
  }
 },
 "nbformat": 4,
 "nbformat_minor": 4
}
