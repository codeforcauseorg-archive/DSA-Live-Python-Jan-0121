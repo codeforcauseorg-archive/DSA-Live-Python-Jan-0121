{
 "cells": [
  {
   "cell_type": "code",
   "execution_count": 2,
   "metadata": {},
   "outputs": [],
   "source": [
    "def merge(first, second):\n",
    "    \n",
    "    result = []\n",
    "    \n",
    "    f, s = 0, 0\n",
    "    \n",
    "    while (f < len(first)) and (s < len(second)):\n",
    "        \n",
    "        if(first[f] < second[s]):\n",
    "            result.append(first[f])\n",
    "            f+=1\n",
    "        else:\n",
    "            result.append(second[s])\n",
    "            s+=1\n",
    "    \n",
    "    while (f < len(first)):\n",
    "        result.append(first[f])\n",
    "        f+=1\n",
    "        \n",
    "    while (s < len(second)):\n",
    "        result.append(second[s])\n",
    "        s+=1\n",
    "        \n",
    "    return result\n",
    "    "
   ]
  },
  {
   "cell_type": "code",
   "execution_count": 3,
   "metadata": {},
   "outputs": [],
   "source": [
    "a = [1, 5, 8, 10, 15]"
   ]
  },
  {
   "cell_type": "code",
   "execution_count": 4,
   "metadata": {},
   "outputs": [],
   "source": [
    "b = [2, 4, 6, 9, 10, 13, 15]"
   ]
  },
  {
   "cell_type": "code",
   "execution_count": 5,
   "metadata": {},
   "outputs": [
    {
     "data": {
      "text/plain": [
       "[1, 2, 4, 5, 6, 8, 9, 10, 10, 13, 15, 15]"
      ]
     },
     "execution_count": 5,
     "metadata": {},
     "output_type": "execute_result"
    }
   ],
   "source": [
    "merge(a, b)"
   ]
  },
  {
   "cell_type": "code",
   "execution_count": 14,
   "metadata": {},
   "outputs": [],
   "source": [
    "def mergesort(nums):\n",
    "    \n",
    "    if len(nums) < 2:\n",
    "        return nums\n",
    "    \n",
    "    mid = len(nums) // 2\n",
    "    \n",
    "    left = nums[:mid]\n",
    "    right = nums[mid:]\n",
    "    \n",
    "    left_sorted = mergesort(left)\n",
    "    rifgt_sorted = mergesort(right)\n",
    "    \n",
    "    return merge(left_sorted, rifgt_sorted)"
   ]
  },
  {
   "cell_type": "code",
   "execution_count": 7,
   "metadata": {},
   "outputs": [],
   "source": [
    "import random"
   ]
  },
  {
   "cell_type": "code",
   "execution_count": 15,
   "metadata": {},
   "outputs": [],
   "source": [
    "nums = []\n",
    "\n",
    "for i in range(200):\n",
    "    nums.append(random.randint(20, 300))\n",
    "    "
   ]
  },
  {
   "cell_type": "code",
   "execution_count": 16,
   "metadata": {},
   "outputs": [
    {
     "name": "stdout",
     "output_type": "stream",
     "text": [
      "[139, 38, 43, 259, 62, 249, 219, 288, 75, 68, 68, 55, 225, 274, 267, 288, 167, 91, 200, 77, 173, 255, 109, 119, 214, 190, 257, 131, 27, 261, 258, 138, 183, 61, 75, 159, 282, 193, 192, 60, 213, 100, 221, 208, 236, 74, 172, 194, 229, 30, 264, 261, 257, 284, 71, 139, 115, 265, 295, 200, 66, 182, 297, 86, 211, 165, 104, 72, 195, 147, 110, 201, 131, 33, 65, 217, 125, 228, 275, 222, 200, 260, 293, 127, 67, 236, 123, 165, 251, 102, 91, 188, 84, 196, 169, 191, 295, 156, 275, 213, 239, 298, 35, 192, 51, 236, 166, 76, 63, 219, 62, 74, 198, 297, 295, 68, 159, 263, 206, 223, 24, 147, 65, 63, 110, 86, 161, 78, 142, 81, 253, 41, 120, 177, 187, 61, 175, 225, 219, 152, 146, 112, 158, 128, 181, 295, 47, 55, 74, 172, 53, 279, 86, 255, 65, 286, 206, 222, 249, 122, 25, 190, 268, 110, 206, 112, 225, 93, 31, 270, 290, 220, 176, 290, 127, 293, 163, 145, 234, 185, 69, 271, 165, 65, 224, 73, 269, 67, 149, 176, 203, 52, 65, 265, 104, 73, 82, 145, 214, 293]\n"
     ]
    }
   ],
   "source": [
    "print(nums)"
   ]
  },
  {
   "cell_type": "code",
   "execution_count": 17,
   "metadata": {},
   "outputs": [],
   "source": [
    "out = mergesort(nums)"
   ]
  },
  {
   "cell_type": "code",
   "execution_count": 18,
   "metadata": {},
   "outputs": [
    {
     "name": "stdout",
     "output_type": "stream",
     "text": [
      "[24, 25, 27, 30, 31, 33, 35, 38, 41, 43, 47, 51, 52, 53, 55, 55, 60, 61, 61, 62, 62, 63, 63, 65, 65, 65, 65, 65, 66, 67, 67, 68, 68, 68, 69, 71, 72, 73, 73, 74, 74, 74, 75, 75, 76, 77, 78, 81, 82, 84, 86, 86, 86, 91, 91, 93, 100, 102, 104, 104, 109, 110, 110, 110, 112, 112, 115, 119, 120, 122, 123, 125, 127, 127, 128, 131, 131, 138, 139, 139, 142, 145, 145, 146, 147, 147, 149, 152, 156, 158, 159, 159, 161, 163, 165, 165, 165, 166, 167, 169, 172, 172, 173, 175, 176, 176, 177, 181, 182, 183, 185, 187, 188, 190, 190, 191, 192, 192, 193, 194, 195, 196, 198, 200, 200, 200, 201, 203, 206, 206, 206, 208, 211, 213, 213, 214, 214, 217, 219, 219, 219, 220, 221, 222, 222, 223, 224, 225, 225, 225, 228, 229, 234, 236, 236, 236, 239, 249, 249, 251, 253, 255, 255, 257, 257, 258, 259, 260, 261, 261, 263, 264, 265, 265, 267, 268, 269, 270, 271, 274, 275, 275, 279, 282, 284, 286, 288, 288, 290, 290, 293, 293, 293, 295, 295, 295, 295, 297, 297, 298]\n"
     ]
    }
   ],
   "source": [
    "print(out)"
   ]
  },
  {
   "cell_type": "code",
   "execution_count": null,
   "metadata": {},
   "outputs": [],
   "source": []
  }
 ],
 "metadata": {
  "kernelspec": {
   "display_name": "Python 3",
   "language": "python",
   "name": "python3"
  },
  "language_info": {
   "codemirror_mode": {
    "name": "ipython",
    "version": 3
   },
   "file_extension": ".py",
   "mimetype": "text/x-python",
   "name": "python",
   "nbconvert_exporter": "python",
   "pygments_lexer": "ipython3",
   "version": "3.7.7"
  }
 },
 "nbformat": 4,
 "nbformat_minor": 4
}
