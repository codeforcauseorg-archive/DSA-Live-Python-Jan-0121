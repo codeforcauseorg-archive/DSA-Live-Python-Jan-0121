{
 "cells": [
  {
   "cell_type": "code",
   "execution_count": 1,
   "metadata": {},
   "outputs": [],
   "source": [
    "def subseq(unproc, proc=\"\"):\n",
    "    \n",
    "    if unproc == \"\":\n",
    "        print(proc)\n",
    "        return\n",
    "    \n",
    "    \n",
    "    ch = unproc[0]\n",
    "    \n",
    "    subseq(unproc[1:], proc + ch)\n",
    "    subseq(unproc[1:], proc)\n",
    "        "
   ]
  },
  {
   "cell_type": "code",
   "execution_count": 2,
   "metadata": {},
   "outputs": [
    {
     "name": "stdout",
     "output_type": "stream",
     "text": [
      "abc\n",
      "ab\n",
      "ac\n",
      "a\n",
      "bc\n",
      "b\n",
      "c\n",
      "\n"
     ]
    }
   ],
   "source": [
    "subseq(\"abc\")"
   ]
  },
  {
   "cell_type": "code",
   "execution_count": 4,
   "metadata": {},
   "outputs": [
    {
     "data": {
      "text/plain": [
       "['abc', 'ab', 'ac', 'a', 'bc', 'b', 'c', '']"
      ]
     },
     "execution_count": 4,
     "metadata": {},
     "output_type": "execute_result"
    }
   ],
   "source": [
    "def subseq(unproc, proc=\"\"):\n",
    "    if unproc == \"\":\n",
    "        return [proc]\n",
    "\n",
    "    ch = unproc[0]\n",
    "\n",
    "    left = subseq(unproc[1:], proc + ch)\n",
    "    right = subseq(unproc[1:], proc)\n",
    "    \n",
    "    return left + right\n",
    "\n",
    "subseq(\"abc\")"
   ]
  },
  {
   "cell_type": "code",
   "execution_count": 3,
   "metadata": {},
   "outputs": [
    {
     "data": {
      "text/plain": [
       "[1, 6, 7, 9]"
      ]
     },
     "execution_count": 3,
     "metadata": {},
     "output_type": "execute_result"
    }
   ],
   "source": [
    "[1, 6] + [7, 9]"
   ]
  },
  {
   "cell_type": "code",
   "execution_count": 5,
   "metadata": {},
   "outputs": [
    {
     "name": "stdout",
     "output_type": "stream",
     "text": [
      "['abc', 'ab', 'ac', 'a', 'bc', 'b', 'c', '']\n"
     ]
    }
   ],
   "source": [
    "def subseq(unproc, results, proc=\"\"):\n",
    "    if unproc == \"\":\n",
    "        results.append(proc)\n",
    "        return \n",
    "\n",
    "    ch = unproc[0]\n",
    "\n",
    "    subseq(unproc[1:], results, proc + ch)\n",
    "    subseq(unproc[1:], results, proc)\n",
    "    return\n",
    "\n",
    "res = []\n",
    "subseq(\"abc\", res)\n",
    "print(res)"
   ]
  },
  {
   "cell_type": "code",
   "execution_count": 6,
   "metadata": {},
   "outputs": [
    {
     "name": "stdout",
     "output_type": "stream",
     "text": [
      "['abc', 'ab', 'ac', 'a', 'bc', 'b', 'c', '']\n"
     ]
    }
   ],
   "source": [
    "def subseq(unproc, results=[], proc=\"\"):\n",
    "    if unproc == \"\":\n",
    "        results.append(proc)\n",
    "        return results\n",
    "\n",
    "    ch = unproc[0]\n",
    "\n",
    "    subseq(unproc[1:], results, proc + ch)\n",
    "    subseq(unproc[1:], results, proc)\n",
    "    return results\n",
    "\n",
    "\n",
    "out = subseq(\"abc\")\n",
    "print(out)"
   ]
  },
  {
   "cell_type": "code",
   "execution_count": null,
   "metadata": {},
   "outputs": [],
   "source": []
  }
 ],
 "metadata": {
  "kernelspec": {
   "display_name": "Python 3",
   "language": "python",
   "name": "python3"
  },
  "language_info": {
   "codemirror_mode": {
    "name": "ipython",
    "version": 3
   },
   "file_extension": ".py",
   "mimetype": "text/x-python",
   "name": "python",
   "nbconvert_exporter": "python",
   "pygments_lexer": "ipython3",
   "version": "3.7.7"
  }
 },
 "nbformat": 4,
 "nbformat_minor": 4
}
