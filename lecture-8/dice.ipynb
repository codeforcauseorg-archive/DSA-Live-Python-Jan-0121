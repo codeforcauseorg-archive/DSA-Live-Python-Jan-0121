{
 "cells": [
  {
   "cell_type": "code",
   "execution_count": 5,
   "metadata": {},
   "outputs": [],
   "source": [
    "def dice(target, faces=3, proc=\"\"):\n",
    "    if(target == 0):\n",
    "        print(proc)\n",
    "        return\n",
    "    \n",
    "    for face in range(1, faces+1):\n",
    "        if(face <= target):\n",
    "            dice(target - face, faces, proc + str(face))\n",
    "        else:\n",
    "            break\n",
    "        "
   ]
  },
  {
   "cell_type": "code",
   "execution_count": 9,
   "metadata": {},
   "outputs": [
    {
     "name": "stdout",
     "output_type": "stream",
     "text": [
      "1111\n",
      "112\n",
      "121\n",
      "13\n",
      "211\n",
      "22\n",
      "31\n",
      "4\n"
     ]
    }
   ],
   "source": [
    "dice(4, 5)"
   ]
  },
  {
   "cell_type": "code",
   "execution_count": 11,
   "metadata": {},
   "outputs": [],
   "source": [
    "def diceCount(target, faces=3):\n",
    "    if(target == 0):\n",
    "        return 1\n",
    "    \n",
    "    total = 0\n",
    "    for face in range(1, faces+1):\n",
    "        if(face <= target):\n",
    "            total += diceCount(target - face, faces)\n",
    "        else:\n",
    "            break\n",
    "    \n",
    "    return total"
   ]
  },
  {
   "cell_type": "code",
   "execution_count": 14,
   "metadata": {},
   "outputs": [
    {
     "name": "stderr",
     "output_type": "stream",
     "text": [
      "\n",
      "KeyboardInterrupt\n",
      "\n"
     ]
    }
   ],
   "source": [
    "diceCount(60, 4)"
   ]
  },
  {
   "cell_type": "code",
   "execution_count": null,
   "metadata": {},
   "outputs": [],
   "source": []
  }
 ],
 "metadata": {
  "kernelspec": {
   "display_name": "Python 3",
   "language": "python",
   "name": "python3"
  },
  "language_info": {
   "codemirror_mode": {
    "name": "ipython",
    "version": 3
   },
   "file_extension": ".py",
   "mimetype": "text/x-python",
   "name": "python",
   "nbconvert_exporter": "python",
   "pygments_lexer": "ipython3",
   "version": "3.7.7"
  }
 },
 "nbformat": 4,
 "nbformat_minor": 4
}
