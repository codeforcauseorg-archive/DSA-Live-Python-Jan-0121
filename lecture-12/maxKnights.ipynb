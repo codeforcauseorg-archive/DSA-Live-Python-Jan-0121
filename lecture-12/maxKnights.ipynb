{
 "cells": [
  {
   "cell_type": "code",
   "execution_count": 1,
   "metadata": {},
   "outputs": [],
   "source": [
    "def getBoard(n):\n",
    "\n",
    "    board = []\n",
    "\n",
    "    for i in range(n):\n",
    "        board.append([False]*n)\n",
    "\n",
    "    return board"
   ]
  },
  {
   "cell_type": "code",
   "execution_count": 4,
   "metadata": {},
   "outputs": [],
   "source": [
    "def maxKnights(board, placements=0, row=0, col=0):\n",
    "    \n",
    "    if(row == len(board)):\n",
    "        return placements\n",
    "    \n",
    "    if(col == len(board)):\n",
    "        return maxKnights(board, placements, row+1, 0)\n",
    "    \n",
    "    placed, not_placed = 0, 0\n",
    "    \n",
    "    if isSafe(board, row, col):\n",
    "        board[row][col] = True\n",
    "        placed = maxKnights(board, placements+1, row, col+1)\n",
    "        board[row][col] = False\n",
    "    \n",
    "    not_placed = maxKnights(board, placements+1, row, col+1)\n",
    "    \n",
    "    return max(placed, not_placed)"
   ]
  },
  {
   "cell_type": "code",
   "execution_count": 3,
   "metadata": {},
   "outputs": [
    {
     "data": {
      "text/plain": [
       "20"
      ]
     },
     "execution_count": 3,
     "metadata": {},
     "output_type": "execute_result"
    }
   ],
   "source": [
    "max(10, 20)"
   ]
  },
  {
   "cell_type": "code",
   "execution_count": null,
   "metadata": {},
   "outputs": [],
   "source": []
  }
 ],
 "metadata": {
  "kernelspec": {
   "display_name": "Python 3",
   "language": "python",
   "name": "python3"
  },
  "language_info": {
   "codemirror_mode": {
    "name": "ipython",
    "version": 3
   },
   "file_extension": ".py",
   "mimetype": "text/x-python",
   "name": "python",
   "nbconvert_exporter": "python",
   "pygments_lexer": "ipython3",
   "version": "3.7.7"
  }
 },
 "nbformat": 4,
 "nbformat_minor": 4
}
