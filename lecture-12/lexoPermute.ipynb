{
 "cells": [
  {
   "cell_type": "code",
   "execution_count": 3,
   "metadata": {},
   "outputs": [],
   "source": [
    "def freqList(word):\n",
    "    \n",
    "    freq = [0]*26\n",
    "    \n",
    "    for ch in word:\n",
    "        index = ord(ch) - ord(\"a\")\n",
    "        freq[index] += 1\n",
    "        \n",
    "    return freq"
   ]
  },
  {
   "cell_type": "code",
   "execution_count": 4,
   "metadata": {},
   "outputs": [
    {
     "data": {
      "text/plain": [
       "[0, 0, 0, 0, 1, 0, 0, 1, 0, 0, 0, 2, 0, 0, 1, 0, 0, 0, 0, 0, 0, 0, 0, 0, 0, 0]"
      ]
     },
     "execution_count": 4,
     "metadata": {},
     "output_type": "execute_result"
    }
   ],
   "source": [
    "freqList(\"hello\")"
   ]
  },
  {
   "cell_type": "code",
   "execution_count": 10,
   "metadata": {},
   "outputs": [],
   "source": [
    "def lexo(freq, size, proc=\"\"):\n",
    "    \n",
    "    if len(proc) == size:\n",
    "        print(proc)\n",
    "        return\n",
    "    \n",
    "    for index in range(26):\n",
    "        if freq[index] > 0:\n",
    "            freq[index] -= 1\n",
    "            lexo(freq, size, proc+chr(ord(\"a\")+index))\n",
    "            freq[index] += 1\n",
    "        "
   ]
  },
  {
   "cell_type": "code",
   "execution_count": 11,
   "metadata": {},
   "outputs": [
    {
     "name": "stdout",
     "output_type": "stream",
     "text": [
      "ehllo\n",
      "ehlol\n",
      "eholl\n",
      "elhlo\n",
      "elhol\n",
      "ellho\n",
      "elloh\n",
      "elohl\n",
      "elolh\n",
      "eohll\n",
      "eolhl\n",
      "eollh\n",
      "hello\n",
      "helol\n",
      "heoll\n",
      "hlelo\n",
      "hleol\n",
      "hlleo\n",
      "hlloe\n",
      "hloel\n",
      "hlole\n",
      "hoell\n",
      "holel\n",
      "holle\n",
      "lehlo\n",
      "lehol\n",
      "lelho\n",
      "leloh\n",
      "leohl\n",
      "leolh\n",
      "lhelo\n",
      "lheol\n",
      "lhleo\n",
      "lhloe\n",
      "lhoel\n",
      "lhole\n",
      "lleho\n",
      "lleoh\n",
      "llheo\n",
      "llhoe\n",
      "lloeh\n",
      "llohe\n",
      "loehl\n",
      "loelh\n",
      "lohel\n",
      "lohle\n",
      "loleh\n",
      "lolhe\n",
      "oehll\n",
      "oelhl\n",
      "oellh\n",
      "ohell\n",
      "ohlel\n",
      "ohlle\n",
      "olehl\n",
      "olelh\n",
      "olhel\n",
      "olhle\n",
      "olleh\n",
      "ollhe\n"
     ]
    }
   ],
   "source": [
    "word = \"hello\"\n",
    "freq = freqList(word)\n",
    "lexo(freq, len(word))"
   ]
  },
  {
   "cell_type": "code",
   "execution_count": 23,
   "metadata": {},
   "outputs": [],
   "source": [
    "line = \"hello world??\""
   ]
  },
  {
   "cell_type": "code",
   "execution_count": 24,
   "metadata": {},
   "outputs": [],
   "source": [
    "li = list(set(line))"
   ]
  },
  {
   "cell_type": "code",
   "execution_count": 25,
   "metadata": {},
   "outputs": [],
   "source": [
    "li.sort()"
   ]
  },
  {
   "cell_type": "code",
   "execution_count": 26,
   "metadata": {},
   "outputs": [
    {
     "data": {
      "text/plain": [
       "[' ', '?', 'd', 'e', 'h', 'l', 'o', 'r', 'w']"
      ]
     },
     "execution_count": 26,
     "metadata": {},
     "output_type": "execute_result"
    }
   ],
   "source": [
    "li"
   ]
  },
  {
   "cell_type": "code",
   "execution_count": 27,
   "metadata": {},
   "outputs": [],
   "source": [
    "line = \"hello world??\""
   ]
  },
  {
   "cell_type": "code",
   "execution_count": 28,
   "metadata": {},
   "outputs": [],
   "source": [
    "def freq(line):\n",
    "    \n",
    "    f = {}\n",
    "    \n",
    "    for ch in line:\n",
    "        if ch in f:\n",
    "            f[ch] += 1\n",
    "        else:\n",
    "            f[ch] = 1\n",
    "    \n",
    "    "
   ]
  },
  {
   "cell_type": "code",
   "execution_count": 30,
   "metadata": {},
   "outputs": [],
   "source": [
    "f = {}\n",
    "    \n",
    "for ch in line:\n",
    "    if ch in f:\n",
    "        f[ch] += 1\n",
    "    else:\n",
    "        f[ch] = 1"
   ]
  },
  {
   "cell_type": "code",
   "execution_count": 34,
   "metadata": {},
   "outputs": [],
   "source": [
    "data = list(f.items())"
   ]
  },
  {
   "cell_type": "code",
   "execution_count": 35,
   "metadata": {},
   "outputs": [
    {
     "data": {
      "text/plain": [
       "[(' ', 1),\n",
       " ('?', 2),\n",
       " ('d', 1),\n",
       " ('e', 1),\n",
       " ('h', 1),\n",
       " ('l', 3),\n",
       " ('o', 2),\n",
       " ('r', 1),\n",
       " ('w', 1)]"
      ]
     },
     "execution_count": 35,
     "metadata": {},
     "output_type": "execute_result"
    }
   ],
   "source": [
    "sorted(data)"
   ]
  },
  {
   "cell_type": "code",
   "execution_count": 36,
   "metadata": {},
   "outputs": [
    {
     "data": {
      "text/plain": [
       "dict_items([('h', 1), ('e', 1), ('l', 3), ('o', 2), (' ', 1), ('w', 1), ('r', 1), ('d', 1), ('?', 2)])"
      ]
     },
     "execution_count": 36,
     "metadata": {},
     "output_type": "execute_result"
    }
   ],
   "source": [
    "f.items()"
   ]
  },
  {
   "cell_type": "code",
   "execution_count": null,
   "metadata": {},
   "outputs": [],
   "source": []
  }
 ],
 "metadata": {
  "kernelspec": {
   "display_name": "Python 3",
   "language": "python",
   "name": "python3"
  },
  "language_info": {
   "codemirror_mode": {
    "name": "ipython",
    "version": 3
   },
   "file_extension": ".py",
   "mimetype": "text/x-python",
   "name": "python",
   "nbconvert_exporter": "python",
   "pygments_lexer": "ipython3",
   "version": "3.7.7"
  }
 },
 "nbformat": 4,
 "nbformat_minor": 4
}
