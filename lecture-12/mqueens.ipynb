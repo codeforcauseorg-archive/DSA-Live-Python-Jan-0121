{
 "cells": [
  {
   "cell_type": "code",
   "execution_count": 8,
   "metadata": {},
   "outputs": [],
   "source": [
    "def getBoard(n):\n",
    "\n",
    "    board = []\n",
    "\n",
    "    for i in range(n):\n",
    "        board.append([False]*n)\n",
    "\n",
    "    return board"
   ]
  },
  {
   "cell_type": "code",
   "execution_count": 11,
   "metadata": {},
   "outputs": [
    {
     "data": {
      "text/plain": [
       "[[False, False, False, False],\n",
       " [False, False, False, False],\n",
       " [False, False, False, False],\n",
       " [False, False, False, False]]"
      ]
     },
     "execution_count": 11,
     "metadata": {},
     "output_type": "execute_result"
    }
   ],
   "source": [
    "getBoard(4)"
   ]
  },
  {
   "cell_type": "code",
   "execution_count": 17,
   "metadata": {},
   "outputs": [],
   "source": [
    "def nQueens(board, row=0):\n",
    "    \n",
    "    if row == len(board):\n",
    "        for row in board:\n",
    "            print(row)\n",
    "        print()\n",
    "        return\n",
    "    \n",
    "    for col in range(len(board)):\n",
    "        if isSafe(board, row, col):\n",
    "            board[row][col] = True\n",
    "            nQueens(board, row+1)\n",
    "            board[row][col] = False\n",
    "\n",
    "    \n",
    "        "
   ]
  },
  {
   "cell_type": "code",
   "execution_count": 18,
   "metadata": {},
   "outputs": [],
   "source": [
    "def isSafe(board, row, col):\n",
    "    \n",
    "    for r in range(row):\n",
    "        if board[r][col]:\n",
    "            return False\n",
    "    \n",
    "    for index in range(1, row+1):\n",
    "        \n",
    "        if ((col - index) >= 0) and board[row-index][col-index]:\n",
    "            return False\n",
    "        \n",
    "        if ((col + index) < len(board)) and board[row-index][col+index]:\n",
    "            return False\n",
    "    \n",
    "    return True"
   ]
  },
  {
   "cell_type": "code",
   "execution_count": 19,
   "metadata": {},
   "outputs": [
    {
     "name": "stdout",
     "output_type": "stream",
     "text": [
      "[False, True, False, False]\n",
      "[False, False, False, True]\n",
      "[True, False, False, False]\n",
      "[False, False, True, False]\n",
      "\n",
      "[False, False, True, False]\n",
      "[True, False, False, False]\n",
      "[False, False, False, True]\n",
      "[False, True, False, False]\n",
      "\n"
     ]
    }
   ],
   "source": [
    "nQueens(board)"
   ]
  },
  {
   "cell_type": "code",
   "execution_count": null,
   "metadata": {},
   "outputs": [],
   "source": []
  }
 ],
 "metadata": {
  "kernelspec": {
   "display_name": "Python 3",
   "language": "python",
   "name": "python3"
  },
  "language_info": {
   "codemirror_mode": {
    "name": "ipython",
    "version": 3
   },
   "file_extension": ".py",
   "mimetype": "text/x-python",
   "name": "python",
   "nbconvert_exporter": "python",
   "pygments_lexer": "ipython3",
   "version": "3.7.7"
  }
 },
 "nbformat": 4,
 "nbformat_minor": 4
}
