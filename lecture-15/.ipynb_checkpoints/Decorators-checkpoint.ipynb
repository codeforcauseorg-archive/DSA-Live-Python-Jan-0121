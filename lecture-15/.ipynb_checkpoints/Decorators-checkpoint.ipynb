{
 "cells": [
  {
   "cell_type": "code",
   "execution_count": 41,
   "metadata": {},
   "outputs": [],
   "source": [
    "def greeting():\n",
    "    print(\"Hello World\")"
   ]
  },
  {
   "cell_type": "code",
   "execution_count": 42,
   "metadata": {},
   "outputs": [
    {
     "name": "stdout",
     "output_type": "stream",
     "text": [
      "Hello World\n"
     ]
    }
   ],
   "source": [
    "greeting()"
   ]
  },
  {
   "cell_type": "code",
   "execution_count": 43,
   "metadata": {},
   "outputs": [],
   "source": [
    "def decorator_func(original_func):\n",
    "    def wrapper_func():\n",
    "        print(\"My name is computer\")\n",
    "        return original_func()\n",
    "    return wrapper_func"
   ]
  },
  {
   "cell_type": "code",
   "execution_count": 44,
   "metadata": {},
   "outputs": [],
   "source": [
    "def greeting():\n",
    "    print(\"Hello World\")"
   ]
  },
  {
   "cell_type": "code",
   "execution_count": 45,
   "metadata": {},
   "outputs": [
    {
     "name": "stdout",
     "output_type": "stream",
     "text": [
      "My name is computer\n",
      "Hello World\n"
     ]
    }
   ],
   "source": [
    "modified_greeting = decorator_func(greeting)   # this is not wrapper_func\n",
    "modified_greeting()"
   ]
  },
  {
   "cell_type": "code",
   "execution_count": 46,
   "metadata": {},
   "outputs": [],
   "source": [
    "@decorator_func\n",
    "def greeting():\n",
    "    print(\"Hello World\")"
   ]
  },
  {
   "cell_type": "code",
   "execution_count": 47,
   "metadata": {},
   "outputs": [
    {
     "name": "stdout",
     "output_type": "stream",
     "text": [
      "My name is computer\n",
      "Hello World\n"
     ]
    }
   ],
   "source": [
    "greeting()"
   ]
  },
  {
   "cell_type": "code",
   "execution_count": 48,
   "metadata": {},
   "outputs": [],
   "source": [
    "def decorator_func(original_func):\n",
    "    def wrapper_func(*args, **kwargs):\n",
    "        print(f'wrapper function executed before {original_func.__name__}')\n",
    "        return original_func(*args, **kwargs)\n",
    "    return wrapper_func"
   ]
  },
  {
   "cell_type": "code",
   "execution_count": 49,
   "metadata": {},
   "outputs": [],
   "source": [
    "@decorator_func\n",
    "def greeting(name, salary):\n",
    "    print(f\"Hello {name}, this is your salary: {salary}\")\n",
    "    \n",
    "\n",
    "# OR\n",
    "# greeting = decorator_func(greeting)"
   ]
  },
  {
   "cell_type": "code",
   "execution_count": 50,
   "metadata": {},
   "outputs": [
    {
     "name": "stdout",
     "output_type": "stream",
     "text": [
      "wrapper function executed before greeting\n",
      "Hello Kunal, this is your salary: 20000\n"
     ]
    }
   ],
   "source": [
    "greeting('Kunal', 20000)"
   ]
  },
  {
   "cell_type": "code",
   "execution_count": 51,
   "metadata": {},
   "outputs": [],
   "source": [
    "# Decorators with arguments"
   ]
  },
  {
   "cell_type": "code",
   "execution_count": null,
   "metadata": {},
   "outputs": [],
   "source": []
  },
  {
   "cell_type": "code",
   "execution_count": 55,
   "metadata": {},
   "outputs": [],
   "source": [
    "def prefix_decorator(prefix):\n",
    "    def decorator_func(original_func):\n",
    "        def wrapper_func(*args, **kwargs):\n",
    "            print(f'you are in {prefix} mode')\n",
    "            return original_func(*args, **kwargs)\n",
    "        return wrapper_func\n",
    "    return decorator_func"
   ]
  },
  {
   "cell_type": "code",
   "execution_count": 56,
   "metadata": {},
   "outputs": [
    {
     "name": "stdout",
     "output_type": "stream",
     "text": [
      "you are in DEBUG mode\n",
      "Hello Kunal, this is your salary: 250000\n"
     ]
    }
   ],
   "source": [
    "@prefix_decorator('DEBUG')\n",
    "def greeting(name, salary):\n",
    "    print(f\"Hello {name}, this is your salary: {salary}\")\n",
    "    \n",
    "greeting(\"Kunal\", 250000)"
   ]
  },
  {
   "cell_type": "code",
   "execution_count": 57,
   "metadata": {},
   "outputs": [],
   "source": [
    "prefix = prefix_decorator(\"DEBUG\")\n",
    "greeting = prefix(greeting)"
   ]
  },
  {
   "cell_type": "code",
   "execution_count": 58,
   "metadata": {},
   "outputs": [
    {
     "name": "stdout",
     "output_type": "stream",
     "text": [
      "you are in DEBUG mode\n",
      "you are in DEBUG mode\n",
      "Hello Kunal Kushwaha, this is your salary: 5645\n"
     ]
    }
   ],
   "source": [
    "greeting(\"Kunal Kushwaha\", 5645)"
   ]
  },
  {
   "cell_type": "code",
   "execution_count": 59,
   "metadata": {},
   "outputs": [],
   "source": [
    "# Classes as decorators"
   ]
  },
  {
   "cell_type": "code",
   "execution_count": 80,
   "metadata": {},
   "outputs": [],
   "source": [
    "class decorator_class(object):\n",
    "    def __init__(self, original_function):\n",
    "        self.original_function = original_function #this will tie our function with the object\n",
    "        \n",
    "    def __call__(self, *args, **kwargs):\n",
    "        print('this is a modification by decorators')\n",
    "        return self.original_function(*args, **kwargs)"
   ]
  },
  {
   "cell_type": "code",
   "execution_count": 81,
   "metadata": {},
   "outputs": [],
   "source": [
    "@decorator_class\n",
    "def greeting(*args, **kwargs):\n",
    "    print(kwargs)\n",
    "    \n",
    "# this is same as saying: greeting = decorator_class(greeting)"
   ]
  },
  {
   "cell_type": "code",
   "execution_count": 82,
   "metadata": {},
   "outputs": [
    {
     "name": "stdout",
     "output_type": "stream",
     "text": [
      "this is a modification by decorators\n",
      "{'name': 'kunal'}\n"
     ]
    }
   ],
   "source": [
    "greeting(name=\"kunal\")"
   ]
  },
  {
   "cell_type": "code",
   "execution_count": 71,
   "metadata": {},
   "outputs": [],
   "source": [
    "def fun(*args, **kwargs):\n",
    "    print(kwargs)"
   ]
  },
  {
   "cell_type": "code",
   "execution_count": 74,
   "metadata": {},
   "outputs": [
    {
     "name": "stdout",
     "output_type": "stream",
     "text": [
      "{'name': 'kunal'}\n"
     ]
    }
   ],
   "source": [
    "fun(name='kunal')"
   ]
  },
  {
   "cell_type": "code",
   "execution_count": null,
   "metadata": {},
   "outputs": [],
   "source": []
  }
 ],
 "metadata": {
  "kernelspec": {
   "display_name": "Python 3",
   "language": "python",
   "name": "python3"
  },
  "language_info": {
   "codemirror_mode": {
    "name": "ipython",
    "version": 3
   },
   "file_extension": ".py",
   "mimetype": "text/x-python",
   "name": "python",
   "nbconvert_exporter": "python",
   "pygments_lexer": "ipython3",
   "version": "3.8.0"
  }
 },
 "nbformat": 4,
 "nbformat_minor": 4
}
