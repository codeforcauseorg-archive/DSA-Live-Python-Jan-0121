{
 "cells": [
  {
   "cell_type": "code",
   "execution_count": 2,
   "metadata": {},
   "outputs": [],
   "source": [
    "def arraySum(nums, first=[], second=[], index=0, fsum=0, ssum=0):\n",
    "    \n",
    "    if len(nums) == index:\n",
    "        if fsum == ssum:\n",
    "            print(first, second)\n",
    "        return\n",
    "    \n",
    "    first.append(nums[index])\n",
    "    arraySum(nums, first, second, index+1, fsum+nums[index], ssum)\n",
    "    first.pop()\n",
    "    \n",
    "    second.append(nums[index])\n",
    "    arraySum(nums, first, second, index+1, fsum, ssum+nums[index])\n",
    "    second.pop()\n",
    "    "
   ]
  },
  {
   "cell_type": "code",
   "execution_count": 5,
   "metadata": {},
   "outputs": [],
   "source": [
    "nums = [1, 2, 4, 2, 4, 1]"
   ]
  },
  {
   "cell_type": "code",
   "execution_count": 6,
   "metadata": {},
   "outputs": [
    {
     "name": "stdout",
     "output_type": "stream",
     "text": [
      "[1, 2, 4] [2, 4, 1]\n",
      "[1, 2, 4] [4, 2, 1]\n",
      "[1, 4, 2] [2, 4, 1]\n",
      "[1, 2, 4] [2, 4, 1]\n",
      "[2, 4, 1] [1, 2, 4]\n",
      "[2, 4, 1] [1, 4, 2]\n",
      "[4, 2, 1] [1, 2, 4]\n",
      "[2, 4, 1] [1, 2, 4]\n"
     ]
    }
   ],
   "source": [
    "arraySum(nums)"
   ]
  },
  {
   "cell_type": "code",
   "execution_count": 7,
   "metadata": {},
   "outputs": [],
   "source": [
    "# Not good to use\n",
    "\n",
    "def arraySum(nums, first=(), second=(), index=0, fsum=0, ssum=0):\n",
    "    \n",
    "    if len(nums) == index:\n",
    "        if fsum == ssum:\n",
    "            print(first, second)\n",
    "        return\n",
    "    \n",
    "\n",
    "    arraySum(nums, first + (nums[index],), second, index+1, fsum+nums[index], ssum)\n",
    "    arraySum(nums, first, second + (nums[index],), index+1, fsum, ssum+nums[index])\n",
    "    "
   ]
  },
  {
   "cell_type": "code",
   "execution_count": 8,
   "metadata": {},
   "outputs": [
    {
     "name": "stdout",
     "output_type": "stream",
     "text": [
      "(1, 2, 4) (2, 4, 1)\n",
      "(1, 2, 4) (4, 2, 1)\n",
      "(1, 4, 2) (2, 4, 1)\n",
      "(1, 2, 4) (2, 4, 1)\n",
      "(2, 4, 1) (1, 2, 4)\n",
      "(2, 4, 1) (1, 4, 2)\n",
      "(4, 2, 1) (1, 2, 4)\n",
      "(2, 4, 1) (1, 2, 4)\n"
     ]
    }
   ],
   "source": [
    "arraySum(nums)"
   ]
  },
  {
   "cell_type": "code",
   "execution_count": 10,
   "metadata": {},
   "outputs": [],
   "source": [
    "# Not good to use\n",
    "\n",
    "def arraySum(nums, first=[], second=[], index=0, fsum=0, ssum=0):\n",
    "    \n",
    "    if len(nums) == index:\n",
    "        if fsum == ssum:\n",
    "            print(first, second)\n",
    "        return\n",
    "    \n",
    "\n",
    "    arraySum(nums, first + [nums[index]], second, index+1, fsum+nums[index], ssum)\n",
    "    arraySum(nums, first, second + [nums[index]], index+1, fsum, ssum+nums[index])\n",
    "    "
   ]
  },
  {
   "cell_type": "code",
   "execution_count": 11,
   "metadata": {},
   "outputs": [
    {
     "name": "stdout",
     "output_type": "stream",
     "text": [
      "[1, 2, 4] [2, 4, 1]\n",
      "[1, 2, 4] [4, 2, 1]\n",
      "[1, 4, 2] [2, 4, 1]\n",
      "[1, 2, 4] [2, 4, 1]\n",
      "[2, 4, 1] [1, 2, 4]\n",
      "[2, 4, 1] [1, 4, 2]\n",
      "[4, 2, 1] [1, 2, 4]\n",
      "[2, 4, 1] [1, 2, 4]\n"
     ]
    }
   ],
   "source": [
    "arraySum(nums)"
   ]
  },
  {
   "cell_type": "code",
   "execution_count": 13,
   "metadata": {},
   "outputs": [],
   "source": [
    "def arraySumNotAll(nums, first=[], second=[], index=0, fsum=0, ssum=0):\n",
    "    \n",
    "    if len(nums) == index:\n",
    "        if fsum == ssum:\n",
    "            print(first, second)\n",
    "        return\n",
    "    \n",
    "    first.append(nums[index])\n",
    "    arraySumNotAll(nums, first, second, index+1, fsum+nums[index], ssum)\n",
    "    first.pop()\n",
    "    \n",
    "    second.append(nums[index])\n",
    "    arraySumNotAll(nums, first, second, index+1, fsum, ssum+nums[index])\n",
    "    second.pop()\n",
    "    \n",
    "    arraySumNotAll(nums, first, second, index+1, fsum, ssum)"
   ]
  },
  {
   "cell_type": "code",
   "execution_count": 14,
   "metadata": {},
   "outputs": [
    {
     "name": "stdout",
     "output_type": "stream",
     "text": [
      "[1, 2, 4] [2, 4, 1]\n",
      "[1, 2, 2] [4, 1]\n",
      "[1, 2, 4] [4, 2, 1]\n",
      "[1, 2, 1] [4]\n",
      "[1, 2, 2] [4, 1]\n",
      "[1, 2] [2, 1]\n",
      "[1, 2, 1] [4]\n",
      "[1, 4, 2] [2, 4, 1]\n",
      "[1, 4] [2, 2, 1]\n",
      "[1, 4, 1] [2, 4]\n",
      "[1, 2, 4] [2, 4, 1]\n",
      "[1, 4, 1] [2, 4]\n",
      "[1, 2] [2, 1]\n",
      "[1, 4] [2, 2, 1]\n",
      "[1, 1] [2]\n",
      "[1, 4, 1] [2, 4]\n",
      "[1, 4] [4, 1]\n",
      "[1, 2, 1] [4]\n",
      "[1, 4, 1] [4, 2]\n",
      "[1, 4] [4, 1]\n",
      "[1, 2, 1] [4]\n",
      "[1, 1] [2]\n",
      "[1] [1]\n",
      "[2, 4, 1] [1, 2, 4]\n",
      "[2, 4] [1, 4, 1]\n",
      "[2, 2, 1] [1, 4]\n",
      "[2, 4, 1] [1, 4, 2]\n",
      "[2, 4] [1, 4, 1]\n",
      "[2, 2, 1] [1, 4]\n",
      "[2, 1] [1, 2]\n",
      "[2] [1, 1]\n",
      "[4, 2, 1] [1, 2, 4]\n",
      "[4, 1] [1, 2, 2]\n",
      "[4] [1, 2, 1]\n",
      "[2, 4, 1] [1, 2, 4]\n",
      "[2, 1] [1, 2]\n",
      "[4, 1] [1, 2, 2]\n",
      "[4] [1, 2, 1]\n",
      "[4, 2] [1, 4, 1]\n",
      "[4] [1, 2, 1]\n",
      "[4, 1] [1, 4]\n",
      "[2, 4] [1, 4, 1]\n",
      "[4, 1] [1, 4]\n",
      "[2] [1, 1]\n",
      "[4] [1, 2, 1]\n",
      "[1] [1]\n",
      "[2, 4] [2, 4]\n",
      "[2, 2] [4]\n",
      "[2, 4] [4, 2]\n",
      "[2, 2] [4]\n",
      "[2] [2]\n",
      "[4, 2] [2, 4]\n",
      "[4] [2, 2]\n",
      "[2, 4] [2, 4]\n",
      "[2] [2]\n",
      "[4] [2, 2]\n",
      "[4] [4]\n",
      "[4] [4]\n",
      "[] []\n"
     ]
    }
   ],
   "source": [
    "arraySumNotAll(nums)"
   ]
  },
  {
   "cell_type": "code",
   "execution_count": null,
   "metadata": {},
   "outputs": [],
   "source": []
  }
 ],
 "metadata": {
  "kernelspec": {
   "display_name": "Python 3",
   "language": "python",
   "name": "python3"
  },
  "language_info": {
   "codemirror_mode": {
    "name": "ipython",
    "version": 3
   },
   "file_extension": ".py",
   "mimetype": "text/x-python",
   "name": "python",
   "nbconvert_exporter": "python",
   "pygments_lexer": "ipython3",
   "version": "3.7.7"
  }
 },
 "nbformat": 4,
 "nbformat_minor": 4
}
